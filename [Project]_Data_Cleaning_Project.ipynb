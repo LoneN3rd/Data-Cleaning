{
  "nbformat": 4,
  "nbformat_minor": 0,
  "metadata": {
    "colab": {
      "name": "[Project]: Data Cleaning Project",
      "provenance": [],
      "collapsed_sections": [],
      "toc_visible": true
    },
    "kernelspec": {
      "name": "python3",
      "display_name": "Python 3"
    },
    "language_info": {
      "name": "python"
    }
  },
  "cells": [
    {
      "cell_type": "markdown",
      "metadata": {
        "id": "mtTE3FDX7_93"
      },
      "source": [
        "# Project Notebook: Data Cleaning Project"
      ]
    },
    {
      "cell_type": "markdown",
      "metadata": {
        "id": "V4brpKi_8A9H"
      },
      "source": [
        "## 1. Introduction"
      ]
    },
    {
      "cell_type": "markdown",
      "metadata": {
        "id": "YldM9SsVEgBT"
      },
      "source": [
        "Welcome to the Star Wars Survey project! \n",
        "\n",
        "In this project, you'll work to analyze data on the Star Wars movies.\n"
      ]
    },
    {
      "cell_type": "markdown",
      "metadata": {
        "id": "JDD6eBpf8WOW"
      },
      "source": [
        "While waiting for Star Wars: The Force Awakens to come out, the team at FiveThirtyEight became interested in answering some questions about Star Wars fans. In particular, they wondered: does the rest of America realize that “The Empire Strikes Back” is clearly the best of the bunch?\n",
        "\n",
        "The team needed to collect data addressing this question. To do this, they surveyed Star Wars fans using the online tool SurveyMonkey. They received 835 total responses, which you can download from their [GitHub repository](https://github.com/fivethirtyeight/data/tree/master/star-wars-survey).\n",
        "\n",
        "The following code reads the data into a pandas DataFrame:\n",
        "\n",
        "```\n",
        "import pandas as pd\n",
        "star_wars = pd.read_csv(\"star_wars.csv\", encoding=\"ISO-8859-1\")\n",
        "```\n",
        "\n",
        "We need to specify an encoding, because the dataset has some characters that aren't in Python's default utf-8 encoding. You can read more about character encodings on developer [Joel Spolsky's blog](http://www.joelonsoftware.com/articles/Unicode.html).\n",
        "\n",
        "The data has several columns, including the following:\n",
        "\n",
        "* `RespondentID` — An anonymized ID for the respondent (person taking the survey)\n",
        "* `Gender` — the respondent's gender\n",
        "* `Age` — the respondent's age\n",
        "* `Household Income` — the respondent's income\n",
        "* `Education` — the respondent's education level\n",
        "* `Location` (Census Region) — the respondent's location\n",
        "* `Have you seen any of the 6 films in the Star Wars franchise?` — a Yes or No response\n",
        "* `Do you consider yourself to be a fan of the Star Wars film franchise?` — a Yes or No response\n",
        "\n",
        "There are several other columns containing answers to questions about the Star Wars movies. For some questions, the respondent had to check one or more boxes. This type of data is difficult to represent in a column. As a result, this dataset needs a lot of cleaning.\n",
        "\n",
        "**Tasks**\n",
        "\n",
        "* Read the dataset into a DataFrame.\n",
        "* Explore the data by entering `star_wars.head(10)`. Look for any strange values in the columns and rows.\n",
        "\n",
        "* Review the column names with `star_wars.columns`.\n"
      ]
    },
    {
      "cell_type": "markdown",
      "source": [
        "Read the dataset into a DataFrame"
      ],
      "metadata": {
        "id": "l7UtM9CfHafY"
      }
    },
    {
      "cell_type": "code",
      "metadata": {
        "id": "keyW4-QA72pX"
      },
      "source": [
        "import pandas as pd\n",
        "import numpy as np"
      ],
      "execution_count": 30,
      "outputs": []
    },
    {
      "cell_type": "code",
      "source": [
        "star_wars = pd.read_csv('/content/StarWars.csv',  encoding=\"ISO-8859-1\")"
      ],
      "metadata": {
        "id": "Aa7cPhyrDvnK"
      },
      "execution_count": 101,
      "outputs": []
    },
    {
      "cell_type": "markdown",
      "source": [
        "Explore the data"
      ],
      "metadata": {
        "id": "AzQWHQd-He8-"
      }
    },
    {
      "cell_type": "code",
      "source": [
        "star_wars.head(10)"
      ],
      "metadata": {
        "colab": {
          "base_uri": "https://localhost:8080/",
          "height": 1000
        },
        "id": "-OeK8GxG9J3r",
        "outputId": "4fa270f4-51c3-4c81-9054-ae8b99c63f94"
      },
      "execution_count": null,
      "outputs": [
        {
          "output_type": "execute_result",
          "data": {
            "text/plain": [
              "   RespondentID Have you seen any of the 6 films in the Star Wars franchise?  \\\n",
              "0           NaN                                           Response             \n",
              "1  3.292880e+09                                                Yes             \n",
              "2  3.292880e+09                                                 No             \n",
              "3  3.292765e+09                                                Yes             \n",
              "4  3.292763e+09                                                Yes             \n",
              "5  3.292731e+09                                                Yes             \n",
              "6  3.292719e+09                                                Yes             \n",
              "7  3.292685e+09                                                Yes             \n",
              "8  3.292664e+09                                                Yes             \n",
              "9  3.292654e+09                                                Yes             \n",
              "\n",
              "  Do you consider yourself to be a fan of the Star Wars film franchise?  \\\n",
              "0                                           Response                      \n",
              "1                                                Yes                      \n",
              "2                                                NaN                      \n",
              "3                                                 No                      \n",
              "4                                                Yes                      \n",
              "5                                                Yes                      \n",
              "6                                                Yes                      \n",
              "7                                                Yes                      \n",
              "8                                                Yes                      \n",
              "9                                                Yes                      \n",
              "\n",
              "  Which of the following Star Wars films have you seen? Please select all that apply.  \\\n",
              "0           Star Wars: Episode I  The Phantom Menace                                    \n",
              "1           Star Wars: Episode I  The Phantom Menace                                    \n",
              "2                                                NaN                                    \n",
              "3           Star Wars: Episode I  The Phantom Menace                                    \n",
              "4           Star Wars: Episode I  The Phantom Menace                                    \n",
              "5           Star Wars: Episode I  The Phantom Menace                                    \n",
              "6           Star Wars: Episode I  The Phantom Menace                                    \n",
              "7           Star Wars: Episode I  The Phantom Menace                                    \n",
              "8           Star Wars: Episode I  The Phantom Menace                                    \n",
              "9           Star Wars: Episode I  The Phantom Menace                                    \n",
              "\n",
              "                                    Unnamed: 4  \\\n",
              "0  Star Wars: Episode II  Attack of the Clones   \n",
              "1  Star Wars: Episode II  Attack of the Clones   \n",
              "2                                          NaN   \n",
              "3  Star Wars: Episode II  Attack of the Clones   \n",
              "4  Star Wars: Episode II  Attack of the Clones   \n",
              "5  Star Wars: Episode II  Attack of the Clones   \n",
              "6  Star Wars: Episode II  Attack of the Clones   \n",
              "7  Star Wars: Episode II  Attack of the Clones   \n",
              "8  Star Wars: Episode II  Attack of the Clones   \n",
              "9  Star Wars: Episode II  Attack of the Clones   \n",
              "\n",
              "                                    Unnamed: 5  \\\n",
              "0  Star Wars: Episode III  Revenge of the Sith   \n",
              "1  Star Wars: Episode III  Revenge of the Sith   \n",
              "2                                          NaN   \n",
              "3  Star Wars: Episode III  Revenge of the Sith   \n",
              "4  Star Wars: Episode III  Revenge of the Sith   \n",
              "5  Star Wars: Episode III  Revenge of the Sith   \n",
              "6  Star Wars: Episode III  Revenge of the Sith   \n",
              "7  Star Wars: Episode III  Revenge of the Sith   \n",
              "8  Star Wars: Episode III  Revenge of the Sith   \n",
              "9  Star Wars: Episode III  Revenge of the Sith   \n",
              "\n",
              "                          Unnamed: 6  \\\n",
              "0  Star Wars: Episode IV  A New Hope   \n",
              "1  Star Wars: Episode IV  A New Hope   \n",
              "2                                NaN   \n",
              "3                                NaN   \n",
              "4  Star Wars: Episode IV  A New Hope   \n",
              "5  Star Wars: Episode IV  A New Hope   \n",
              "6  Star Wars: Episode IV  A New Hope   \n",
              "7  Star Wars: Episode IV  A New Hope   \n",
              "8  Star Wars: Episode IV  A New Hope   \n",
              "9  Star Wars: Episode IV  A New Hope   \n",
              "\n",
              "                                     Unnamed: 7  \\\n",
              "0  Star Wars: Episode V The Empire Strikes Back   \n",
              "1  Star Wars: Episode V The Empire Strikes Back   \n",
              "2                                           NaN   \n",
              "3                                           NaN   \n",
              "4  Star Wars: Episode V The Empire Strikes Back   \n",
              "5  Star Wars: Episode V The Empire Strikes Back   \n",
              "6  Star Wars: Episode V The Empire Strikes Back   \n",
              "7  Star Wars: Episode V The Empire Strikes Back   \n",
              "8  Star Wars: Episode V The Empire Strikes Back   \n",
              "9  Star Wars: Episode V The Empire Strikes Back   \n",
              "\n",
              "                                 Unnamed: 8  \\\n",
              "0  Star Wars: Episode VI Return of the Jedi   \n",
              "1  Star Wars: Episode VI Return of the Jedi   \n",
              "2                                       NaN   \n",
              "3                                       NaN   \n",
              "4  Star Wars: Episode VI Return of the Jedi   \n",
              "5  Star Wars: Episode VI Return of the Jedi   \n",
              "6  Star Wars: Episode VI Return of the Jedi   \n",
              "7  Star Wars: Episode VI Return of the Jedi   \n",
              "8  Star Wars: Episode VI Return of the Jedi   \n",
              "9  Star Wars: Episode VI Return of the Jedi   \n",
              "\n",
              "  Please rank the Star Wars films in order of preference with 1 being your favorite film in the franchise and 6 being your least favorite film.  \\\n",
              "0           Star Wars: Episode I  The Phantom Menace                                                                                              \n",
              "1                                                  3                                                                                              \n",
              "2                                                NaN                                                                                              \n",
              "3                                                  1                                                                                              \n",
              "4                                                  5                                                                                              \n",
              "5                                                  5                                                                                              \n",
              "6                                                  1                                                                                              \n",
              "7                                                  6                                                                                              \n",
              "8                                                  4                                                                                              \n",
              "9                                                  5                                                                                              \n",
              "\n",
              "   ...         Unnamed: 28       Which character shot first?  \\\n",
              "0  ...                Yoda                          Response   \n",
              "1  ...      Very favorably  I don't understand this question   \n",
              "2  ...                 NaN                               NaN   \n",
              "3  ...    Unfamiliar (N/A)  I don't understand this question   \n",
              "4  ...      Very favorably  I don't understand this question   \n",
              "5  ...  Somewhat favorably                            Greedo   \n",
              "6  ...      Very favorably                               Han   \n",
              "7  ...      Very favorably                               Han   \n",
              "8  ...      Very favorably                               Han   \n",
              "9  ...  Somewhat favorably                               Han   \n",
              "\n",
              "  Are you familiar with the Expanded Universe?  \\\n",
              "0                                     Response   \n",
              "1                                          Yes   \n",
              "2                                          NaN   \n",
              "3                                           No   \n",
              "4                                           No   \n",
              "5                                          Yes   \n",
              "6                                          Yes   \n",
              "7                                          Yes   \n",
              "8                                           No   \n",
              "9                                           No   \n",
              "\n",
              "  Do you consider yourself to be a fan of the Expanded Universe?æ  \\\n",
              "0                                           Response                 \n",
              "1                                                 No                 \n",
              "2                                                NaN                 \n",
              "3                                                NaN                 \n",
              "4                                                NaN                 \n",
              "5                                                 No                 \n",
              "6                                                 No                 \n",
              "7                                                 No                 \n",
              "8                                                NaN                 \n",
              "9                                                NaN                 \n",
              "\n",
              "  Do you consider yourself to be a fan of the Star Trek franchise?    Gender  \\\n",
              "0                                           Response                Response   \n",
              "1                                                 No                    Male   \n",
              "2                                                Yes                    Male   \n",
              "3                                                 No                    Male   \n",
              "4                                                Yes                    Male   \n",
              "5                                                 No                    Male   \n",
              "6                                                Yes                    Male   \n",
              "7                                                 No                    Male   \n",
              "8                                                Yes                    Male   \n",
              "9                                                 No                    Male   \n",
              "\n",
              "        Age     Household Income                         Education  \\\n",
              "0  Response             Response                          Response   \n",
              "1     18-29                  NaN                High school degree   \n",
              "2     18-29         $0 - $24,999                   Bachelor degree   \n",
              "3     18-29         $0 - $24,999                High school degree   \n",
              "4     18-29  $100,000 - $149,999  Some college or Associate degree   \n",
              "5     18-29  $100,000 - $149,999  Some college or Associate degree   \n",
              "6     18-29    $25,000 - $49,999                   Bachelor degree   \n",
              "7     18-29                  NaN                High school degree   \n",
              "8     18-29                  NaN                High school degree   \n",
              "9     18-29         $0 - $24,999  Some college or Associate degree   \n",
              "\n",
              "  Location (Census Region)  \n",
              "0                 Response  \n",
              "1           South Atlantic  \n",
              "2       West South Central  \n",
              "3       West North Central  \n",
              "4       West North Central  \n",
              "5       West North Central  \n",
              "6          Middle Atlantic  \n",
              "7       East North Central  \n",
              "8           South Atlantic  \n",
              "9           South Atlantic  \n",
              "\n",
              "[10 rows x 38 columns]"
            ],
            "text/html": [
              "\n",
              "  <div id=\"df-1ce3e974-b0f1-4ab1-9c5a-aebe578e0f33\">\n",
              "    <div class=\"colab-df-container\">\n",
              "      <div>\n",
              "<style scoped>\n",
              "    .dataframe tbody tr th:only-of-type {\n",
              "        vertical-align: middle;\n",
              "    }\n",
              "\n",
              "    .dataframe tbody tr th {\n",
              "        vertical-align: top;\n",
              "    }\n",
              "\n",
              "    .dataframe thead th {\n",
              "        text-align: right;\n",
              "    }\n",
              "</style>\n",
              "<table border=\"1\" class=\"dataframe\">\n",
              "  <thead>\n",
              "    <tr style=\"text-align: right;\">\n",
              "      <th></th>\n",
              "      <th>RespondentID</th>\n",
              "      <th>Have you seen any of the 6 films in the Star Wars franchise?</th>\n",
              "      <th>Do you consider yourself to be a fan of the Star Wars film franchise?</th>\n",
              "      <th>Which of the following Star Wars films have you seen? Please select all that apply.</th>\n",
              "      <th>Unnamed: 4</th>\n",
              "      <th>Unnamed: 5</th>\n",
              "      <th>Unnamed: 6</th>\n",
              "      <th>Unnamed: 7</th>\n",
              "      <th>Unnamed: 8</th>\n",
              "      <th>Please rank the Star Wars films in order of preference with 1 being your favorite film in the franchise and 6 being your least favorite film.</th>\n",
              "      <th>...</th>\n",
              "      <th>Unnamed: 28</th>\n",
              "      <th>Which character shot first?</th>\n",
              "      <th>Are you familiar with the Expanded Universe?</th>\n",
              "      <th>Do you consider yourself to be a fan of the Expanded Universe?æ</th>\n",
              "      <th>Do you consider yourself to be a fan of the Star Trek franchise?</th>\n",
              "      <th>Gender</th>\n",
              "      <th>Age</th>\n",
              "      <th>Household Income</th>\n",
              "      <th>Education</th>\n",
              "      <th>Location (Census Region)</th>\n",
              "    </tr>\n",
              "  </thead>\n",
              "  <tbody>\n",
              "    <tr>\n",
              "      <th>0</th>\n",
              "      <td>NaN</td>\n",
              "      <td>Response</td>\n",
              "      <td>Response</td>\n",
              "      <td>Star Wars: Episode I  The Phantom Menace</td>\n",
              "      <td>Star Wars: Episode II  Attack of the Clones</td>\n",
              "      <td>Star Wars: Episode III  Revenge of the Sith</td>\n",
              "      <td>Star Wars: Episode IV  A New Hope</td>\n",
              "      <td>Star Wars: Episode V The Empire Strikes Back</td>\n",
              "      <td>Star Wars: Episode VI Return of the Jedi</td>\n",
              "      <td>Star Wars: Episode I  The Phantom Menace</td>\n",
              "      <td>...</td>\n",
              "      <td>Yoda</td>\n",
              "      <td>Response</td>\n",
              "      <td>Response</td>\n",
              "      <td>Response</td>\n",
              "      <td>Response</td>\n",
              "      <td>Response</td>\n",
              "      <td>Response</td>\n",
              "      <td>Response</td>\n",
              "      <td>Response</td>\n",
              "      <td>Response</td>\n",
              "    </tr>\n",
              "    <tr>\n",
              "      <th>1</th>\n",
              "      <td>3.292880e+09</td>\n",
              "      <td>Yes</td>\n",
              "      <td>Yes</td>\n",
              "      <td>Star Wars: Episode I  The Phantom Menace</td>\n",
              "      <td>Star Wars: Episode II  Attack of the Clones</td>\n",
              "      <td>Star Wars: Episode III  Revenge of the Sith</td>\n",
              "      <td>Star Wars: Episode IV  A New Hope</td>\n",
              "      <td>Star Wars: Episode V The Empire Strikes Back</td>\n",
              "      <td>Star Wars: Episode VI Return of the Jedi</td>\n",
              "      <td>3</td>\n",
              "      <td>...</td>\n",
              "      <td>Very favorably</td>\n",
              "      <td>I don't understand this question</td>\n",
              "      <td>Yes</td>\n",
              "      <td>No</td>\n",
              "      <td>No</td>\n",
              "      <td>Male</td>\n",
              "      <td>18-29</td>\n",
              "      <td>NaN</td>\n",
              "      <td>High school degree</td>\n",
              "      <td>South Atlantic</td>\n",
              "    </tr>\n",
              "    <tr>\n",
              "      <th>2</th>\n",
              "      <td>3.292880e+09</td>\n",
              "      <td>No</td>\n",
              "      <td>NaN</td>\n",
              "      <td>NaN</td>\n",
              "      <td>NaN</td>\n",
              "      <td>NaN</td>\n",
              "      <td>NaN</td>\n",
              "      <td>NaN</td>\n",
              "      <td>NaN</td>\n",
              "      <td>NaN</td>\n",
              "      <td>...</td>\n",
              "      <td>NaN</td>\n",
              "      <td>NaN</td>\n",
              "      <td>NaN</td>\n",
              "      <td>NaN</td>\n",
              "      <td>Yes</td>\n",
              "      <td>Male</td>\n",
              "      <td>18-29</td>\n",
              "      <td>$0 - $24,999</td>\n",
              "      <td>Bachelor degree</td>\n",
              "      <td>West South Central</td>\n",
              "    </tr>\n",
              "    <tr>\n",
              "      <th>3</th>\n",
              "      <td>3.292765e+09</td>\n",
              "      <td>Yes</td>\n",
              "      <td>No</td>\n",
              "      <td>Star Wars: Episode I  The Phantom Menace</td>\n",
              "      <td>Star Wars: Episode II  Attack of the Clones</td>\n",
              "      <td>Star Wars: Episode III  Revenge of the Sith</td>\n",
              "      <td>NaN</td>\n",
              "      <td>NaN</td>\n",
              "      <td>NaN</td>\n",
              "      <td>1</td>\n",
              "      <td>...</td>\n",
              "      <td>Unfamiliar (N/A)</td>\n",
              "      <td>I don't understand this question</td>\n",
              "      <td>No</td>\n",
              "      <td>NaN</td>\n",
              "      <td>No</td>\n",
              "      <td>Male</td>\n",
              "      <td>18-29</td>\n",
              "      <td>$0 - $24,999</td>\n",
              "      <td>High school degree</td>\n",
              "      <td>West North Central</td>\n",
              "    </tr>\n",
              "    <tr>\n",
              "      <th>4</th>\n",
              "      <td>3.292763e+09</td>\n",
              "      <td>Yes</td>\n",
              "      <td>Yes</td>\n",
              "      <td>Star Wars: Episode I  The Phantom Menace</td>\n",
              "      <td>Star Wars: Episode II  Attack of the Clones</td>\n",
              "      <td>Star Wars: Episode III  Revenge of the Sith</td>\n",
              "      <td>Star Wars: Episode IV  A New Hope</td>\n",
              "      <td>Star Wars: Episode V The Empire Strikes Back</td>\n",
              "      <td>Star Wars: Episode VI Return of the Jedi</td>\n",
              "      <td>5</td>\n",
              "      <td>...</td>\n",
              "      <td>Very favorably</td>\n",
              "      <td>I don't understand this question</td>\n",
              "      <td>No</td>\n",
              "      <td>NaN</td>\n",
              "      <td>Yes</td>\n",
              "      <td>Male</td>\n",
              "      <td>18-29</td>\n",
              "      <td>$100,000 - $149,999</td>\n",
              "      <td>Some college or Associate degree</td>\n",
              "      <td>West North Central</td>\n",
              "    </tr>\n",
              "    <tr>\n",
              "      <th>5</th>\n",
              "      <td>3.292731e+09</td>\n",
              "      <td>Yes</td>\n",
              "      <td>Yes</td>\n",
              "      <td>Star Wars: Episode I  The Phantom Menace</td>\n",
              "      <td>Star Wars: Episode II  Attack of the Clones</td>\n",
              "      <td>Star Wars: Episode III  Revenge of the Sith</td>\n",
              "      <td>Star Wars: Episode IV  A New Hope</td>\n",
              "      <td>Star Wars: Episode V The Empire Strikes Back</td>\n",
              "      <td>Star Wars: Episode VI Return of the Jedi</td>\n",
              "      <td>5</td>\n",
              "      <td>...</td>\n",
              "      <td>Somewhat favorably</td>\n",
              "      <td>Greedo</td>\n",
              "      <td>Yes</td>\n",
              "      <td>No</td>\n",
              "      <td>No</td>\n",
              "      <td>Male</td>\n",
              "      <td>18-29</td>\n",
              "      <td>$100,000 - $149,999</td>\n",
              "      <td>Some college or Associate degree</td>\n",
              "      <td>West North Central</td>\n",
              "    </tr>\n",
              "    <tr>\n",
              "      <th>6</th>\n",
              "      <td>3.292719e+09</td>\n",
              "      <td>Yes</td>\n",
              "      <td>Yes</td>\n",
              "      <td>Star Wars: Episode I  The Phantom Menace</td>\n",
              "      <td>Star Wars: Episode II  Attack of the Clones</td>\n",
              "      <td>Star Wars: Episode III  Revenge of the Sith</td>\n",
              "      <td>Star Wars: Episode IV  A New Hope</td>\n",
              "      <td>Star Wars: Episode V The Empire Strikes Back</td>\n",
              "      <td>Star Wars: Episode VI Return of the Jedi</td>\n",
              "      <td>1</td>\n",
              "      <td>...</td>\n",
              "      <td>Very favorably</td>\n",
              "      <td>Han</td>\n",
              "      <td>Yes</td>\n",
              "      <td>No</td>\n",
              "      <td>Yes</td>\n",
              "      <td>Male</td>\n",
              "      <td>18-29</td>\n",
              "      <td>$25,000 - $49,999</td>\n",
              "      <td>Bachelor degree</td>\n",
              "      <td>Middle Atlantic</td>\n",
              "    </tr>\n",
              "    <tr>\n",
              "      <th>7</th>\n",
              "      <td>3.292685e+09</td>\n",
              "      <td>Yes</td>\n",
              "      <td>Yes</td>\n",
              "      <td>Star Wars: Episode I  The Phantom Menace</td>\n",
              "      <td>Star Wars: Episode II  Attack of the Clones</td>\n",
              "      <td>Star Wars: Episode III  Revenge of the Sith</td>\n",
              "      <td>Star Wars: Episode IV  A New Hope</td>\n",
              "      <td>Star Wars: Episode V The Empire Strikes Back</td>\n",
              "      <td>Star Wars: Episode VI Return of the Jedi</td>\n",
              "      <td>6</td>\n",
              "      <td>...</td>\n",
              "      <td>Very favorably</td>\n",
              "      <td>Han</td>\n",
              "      <td>Yes</td>\n",
              "      <td>No</td>\n",
              "      <td>No</td>\n",
              "      <td>Male</td>\n",
              "      <td>18-29</td>\n",
              "      <td>NaN</td>\n",
              "      <td>High school degree</td>\n",
              "      <td>East North Central</td>\n",
              "    </tr>\n",
              "    <tr>\n",
              "      <th>8</th>\n",
              "      <td>3.292664e+09</td>\n",
              "      <td>Yes</td>\n",
              "      <td>Yes</td>\n",
              "      <td>Star Wars: Episode I  The Phantom Menace</td>\n",
              "      <td>Star Wars: Episode II  Attack of the Clones</td>\n",
              "      <td>Star Wars: Episode III  Revenge of the Sith</td>\n",
              "      <td>Star Wars: Episode IV  A New Hope</td>\n",
              "      <td>Star Wars: Episode V The Empire Strikes Back</td>\n",
              "      <td>Star Wars: Episode VI Return of the Jedi</td>\n",
              "      <td>4</td>\n",
              "      <td>...</td>\n",
              "      <td>Very favorably</td>\n",
              "      <td>Han</td>\n",
              "      <td>No</td>\n",
              "      <td>NaN</td>\n",
              "      <td>Yes</td>\n",
              "      <td>Male</td>\n",
              "      <td>18-29</td>\n",
              "      <td>NaN</td>\n",
              "      <td>High school degree</td>\n",
              "      <td>South Atlantic</td>\n",
              "    </tr>\n",
              "    <tr>\n",
              "      <th>9</th>\n",
              "      <td>3.292654e+09</td>\n",
              "      <td>Yes</td>\n",
              "      <td>Yes</td>\n",
              "      <td>Star Wars: Episode I  The Phantom Menace</td>\n",
              "      <td>Star Wars: Episode II  Attack of the Clones</td>\n",
              "      <td>Star Wars: Episode III  Revenge of the Sith</td>\n",
              "      <td>Star Wars: Episode IV  A New Hope</td>\n",
              "      <td>Star Wars: Episode V The Empire Strikes Back</td>\n",
              "      <td>Star Wars: Episode VI Return of the Jedi</td>\n",
              "      <td>5</td>\n",
              "      <td>...</td>\n",
              "      <td>Somewhat favorably</td>\n",
              "      <td>Han</td>\n",
              "      <td>No</td>\n",
              "      <td>NaN</td>\n",
              "      <td>No</td>\n",
              "      <td>Male</td>\n",
              "      <td>18-29</td>\n",
              "      <td>$0 - $24,999</td>\n",
              "      <td>Some college or Associate degree</td>\n",
              "      <td>South Atlantic</td>\n",
              "    </tr>\n",
              "  </tbody>\n",
              "</table>\n",
              "<p>10 rows × 38 columns</p>\n",
              "</div>\n",
              "      <button class=\"colab-df-convert\" onclick=\"convertToInteractive('df-1ce3e974-b0f1-4ab1-9c5a-aebe578e0f33')\"\n",
              "              title=\"Convert this dataframe to an interactive table.\"\n",
              "              style=\"display:none;\">\n",
              "        \n",
              "  <svg xmlns=\"http://www.w3.org/2000/svg\" height=\"24px\"viewBox=\"0 0 24 24\"\n",
              "       width=\"24px\">\n",
              "    <path d=\"M0 0h24v24H0V0z\" fill=\"none\"/>\n",
              "    <path d=\"M18.56 5.44l.94 2.06.94-2.06 2.06-.94-2.06-.94-.94-2.06-.94 2.06-2.06.94zm-11 1L8.5 8.5l.94-2.06 2.06-.94-2.06-.94L8.5 2.5l-.94 2.06-2.06.94zm10 10l.94 2.06.94-2.06 2.06-.94-2.06-.94-.94-2.06-.94 2.06-2.06.94z\"/><path d=\"M17.41 7.96l-1.37-1.37c-.4-.4-.92-.59-1.43-.59-.52 0-1.04.2-1.43.59L10.3 9.45l-7.72 7.72c-.78.78-.78 2.05 0 2.83L4 21.41c.39.39.9.59 1.41.59.51 0 1.02-.2 1.41-.59l7.78-7.78 2.81-2.81c.8-.78.8-2.07 0-2.86zM5.41 20L4 18.59l7.72-7.72 1.47 1.35L5.41 20z\"/>\n",
              "  </svg>\n",
              "      </button>\n",
              "      \n",
              "  <style>\n",
              "    .colab-df-container {\n",
              "      display:flex;\n",
              "      flex-wrap:wrap;\n",
              "      gap: 12px;\n",
              "    }\n",
              "\n",
              "    .colab-df-convert {\n",
              "      background-color: #E8F0FE;\n",
              "      border: none;\n",
              "      border-radius: 50%;\n",
              "      cursor: pointer;\n",
              "      display: none;\n",
              "      fill: #1967D2;\n",
              "      height: 32px;\n",
              "      padding: 0 0 0 0;\n",
              "      width: 32px;\n",
              "    }\n",
              "\n",
              "    .colab-df-convert:hover {\n",
              "      background-color: #E2EBFA;\n",
              "      box-shadow: 0px 1px 2px rgba(60, 64, 67, 0.3), 0px 1px 3px 1px rgba(60, 64, 67, 0.15);\n",
              "      fill: #174EA6;\n",
              "    }\n",
              "\n",
              "    [theme=dark] .colab-df-convert {\n",
              "      background-color: #3B4455;\n",
              "      fill: #D2E3FC;\n",
              "    }\n",
              "\n",
              "    [theme=dark] .colab-df-convert:hover {\n",
              "      background-color: #434B5C;\n",
              "      box-shadow: 0px 1px 3px 1px rgba(0, 0, 0, 0.15);\n",
              "      filter: drop-shadow(0px 1px 2px rgba(0, 0, 0, 0.3));\n",
              "      fill: #FFFFFF;\n",
              "    }\n",
              "  </style>\n",
              "\n",
              "      <script>\n",
              "        const buttonEl =\n",
              "          document.querySelector('#df-1ce3e974-b0f1-4ab1-9c5a-aebe578e0f33 button.colab-df-convert');\n",
              "        buttonEl.style.display =\n",
              "          google.colab.kernel.accessAllowed ? 'block' : 'none';\n",
              "\n",
              "        async function convertToInteractive(key) {\n",
              "          const element = document.querySelector('#df-1ce3e974-b0f1-4ab1-9c5a-aebe578e0f33');\n",
              "          const dataTable =\n",
              "            await google.colab.kernel.invokeFunction('convertToInteractive',\n",
              "                                                     [key], {});\n",
              "          if (!dataTable) return;\n",
              "\n",
              "          const docLinkHtml = 'Like what you see? Visit the ' +\n",
              "            '<a target=\"_blank\" href=https://colab.research.google.com/notebooks/data_table.ipynb>data table notebook</a>'\n",
              "            + ' to learn more about interactive tables.';\n",
              "          element.innerHTML = '';\n",
              "          dataTable['output_type'] = 'display_data';\n",
              "          await google.colab.output.renderOutput(dataTable, element);\n",
              "          const docLink = document.createElement('div');\n",
              "          docLink.innerHTML = docLinkHtml;\n",
              "          element.appendChild(docLink);\n",
              "        }\n",
              "      </script>\n",
              "    </div>\n",
              "  </div>\n",
              "  "
            ]
          },
          "metadata": {},
          "execution_count": 6
        }
      ]
    },
    {
      "cell_type": "markdown",
      "source": [
        "Review the column names"
      ],
      "metadata": {
        "id": "-nuykFi8Hh6f"
      }
    },
    {
      "cell_type": "code",
      "source": [
        "star_wars.columns"
      ],
      "metadata": {
        "colab": {
          "base_uri": "https://localhost:8080/"
        },
        "id": "NmGGyNP69ScK",
        "outputId": "cc7c0447-c3b3-45aa-83d2-916a7628b684"
      },
      "execution_count": null,
      "outputs": [
        {
          "output_type": "execute_result",
          "data": {
            "text/plain": [
              "Index(['RespondentID',\n",
              "       'Have you seen any of the 6 films in the Star Wars franchise?',\n",
              "       'Do you consider yourself to be a fan of the Star Wars film franchise?',\n",
              "       'Which of the following Star Wars films have you seen? Please select all that apply.',\n",
              "       'Unnamed: 4', 'Unnamed: 5', 'Unnamed: 6', 'Unnamed: 7', 'Unnamed: 8',\n",
              "       'Please rank the Star Wars films in order of preference with 1 being your favorite film in the franchise and 6 being your least favorite film.',\n",
              "       'Unnamed: 10', 'Unnamed: 11', 'Unnamed: 12', 'Unnamed: 13',\n",
              "       'Unnamed: 14',\n",
              "       'Please state whether you view the following characters favorably, unfavorably, or are unfamiliar with him/her.',\n",
              "       'Unnamed: 16', 'Unnamed: 17', 'Unnamed: 18', 'Unnamed: 19',\n",
              "       'Unnamed: 20', 'Unnamed: 21', 'Unnamed: 22', 'Unnamed: 23',\n",
              "       'Unnamed: 24', 'Unnamed: 25', 'Unnamed: 26', 'Unnamed: 27',\n",
              "       'Unnamed: 28', 'Which character shot first?',\n",
              "       'Are you familiar with the Expanded Universe?',\n",
              "       'Do you consider yourself to be a fan of the Expanded Universe?æ',\n",
              "       'Do you consider yourself to be a fan of the Star Trek franchise?',\n",
              "       'Gender', 'Age', 'Household Income', 'Education',\n",
              "       'Location (Census Region)'],\n",
              "      dtype='object')"
            ]
          },
          "metadata": {},
          "execution_count": 7
        }
      ]
    },
    {
      "cell_type": "markdown",
      "metadata": {
        "id": "EyuVQyOv9-78"
      },
      "source": [
        "## 2. Cleaning and Mapping Yes/No Columns"
      ]
    },
    {
      "cell_type": "markdown",
      "metadata": {
        "id": "1OTir-cO-CxS"
      },
      "source": [
        "Take a look at the next two columns:\n",
        "\n",
        "* `Have you seen any of the 6 films in the Star Wars franchise?`\n",
        "* `Do you consider yourself to be a fan of the Star Wars film franchise?`\n",
        "\n",
        "Both represent `Yes/No` questions. They can also be `NaN` where a respondent chooses not to answer a question. We can use the `pandas.Series.value_counts()` method on a series to see all of the unique values in a column, along with the total number of times each value appears.\n",
        "\n",
        "Both columns are currently string types, because the main values they contain are `Yes` and `No`. We can make the data a bit easier to analyze later by converting each column to a Boolean with only the values `True`, `False`, and `NaN`. Booleans are easier to work with because we can select the rows that are `True` or `False` without having to do a string comparison.\n",
        "\n",
        "We can use the `pandas.Series.map()` method on series objects to perform the conversion.\n",
        "\n",
        "For example, imagine we have a series that looks like this:\n",
        "\n",
        "```\n",
        "series = [\"Yes\", \"No\", NaN, \"Yes\"]\n",
        "```\n",
        "We can use a dictionary to define a mapping from each value in series to a new value:\n",
        "\n",
        "```\n",
        "yes_no = {\n",
        "    \"Yes\": True,\n",
        "    \"No\": False\n",
        "}\n",
        "```\n",
        "Then, we can call the map() function to perform the mapping:\n",
        "```\n",
        "series = series.map(yes_no)\n",
        "```\n",
        "\n",
        "`series` will look like this:\n",
        "\n",
        "```\n",
        "[True, False, NaN, True]\n",
        "```\n",
        "\n",
        "**Tasks**\n",
        "\n",
        "1. Convert the `Have you seen any of the 6 films in the Star Wars franchise?` column to the Boolean type.\n",
        "\n",
        "2. Convert the `Do you consider yourself to be a fan of the Star Wars film franchise?` column to the Boolean type.\n",
        "\n",
        "3. When you're finished, both columns should only contain the value `True`, `False`, or `NaN`.\n",
        "\n",
        "\n",
        "\n"
      ]
    },
    {
      "cell_type": "markdown",
      "source": [
        "See all of the unique values in  `Have you seen any of the 6 films in the Star Wars franchise?` and `Do you consider yourself to be a fan of the Star Wars film franchise?` columns"
      ],
      "metadata": {
        "id": "t1eS5rdf-aDn"
      }
    },
    {
      "cell_type": "code",
      "metadata": {
        "id": "Mjf0EPRq--rf",
        "colab": {
          "base_uri": "https://localhost:8080/"
        },
        "outputId": "7337da09-7f1c-4561-d62d-4be43697f8e4"
      },
      "source": [
        "star_wars['Have you seen any of the 6 films in the Star Wars franchise?'].value_counts()"
      ],
      "execution_count": 102,
      "outputs": [
        {
          "output_type": "execute_result",
          "data": {
            "text/plain": [
              "Yes         936\n",
              "No          250\n",
              "Response      1\n",
              "Name: Have you seen any of the 6 films in the Star Wars franchise?, dtype: int64"
            ]
          },
          "metadata": {},
          "execution_count": 102
        }
      ]
    },
    {
      "cell_type": "code",
      "source": [
        "star_wars['Do you consider yourself to be a fan of the Star Wars film franchise?'].value_counts()"
      ],
      "metadata": {
        "colab": {
          "base_uri": "https://localhost:8080/"
        },
        "id": "MbiDODYo-oiY",
        "outputId": "e3ef1af0-cfb0-4a1e-f43b-cc7cb9d7a482"
      },
      "execution_count": null,
      "outputs": [
        {
          "output_type": "execute_result",
          "data": {
            "text/plain": [
              "Yes         552\n",
              "No          284\n",
              "Response      1\n",
              "Name: Do you consider yourself to be a fan of the Star Wars film franchise?, dtype: int64"
            ]
          },
          "metadata": {},
          "execution_count": 11
        }
      ]
    },
    {
      "cell_type": "markdown",
      "source": [
        "Convert the `Have you seen any of the 6 films in the Star Wars franchise?` column to the Boolean type."
      ],
      "metadata": {
        "id": "KZYdMFif-FIm"
      }
    },
    {
      "cell_type": "code",
      "source": [
        "yes_no = {\"Yes\": True, \"No\": False}"
      ],
      "metadata": {
        "id": "GnIorvWlA1GG"
      },
      "execution_count": 21,
      "outputs": []
    },
    {
      "cell_type": "code",
      "source": [
        "star_wars['Have you seen any of the 6 films in the Star Wars franchise?'] = star_wars['Have you seen any of the 6 films in the Star Wars franchise?'].map(yes_no)"
      ],
      "metadata": {
        "id": "a0Om3Z84AEVe"
      },
      "execution_count": 103,
      "outputs": []
    },
    {
      "cell_type": "markdown",
      "source": [
        "Convert the `Do you consider yourself to be a fan of the Star Wars film franchise?` column to the Boolean type."
      ],
      "metadata": {
        "id": "YEXz8hNF-HeM"
      }
    },
    {
      "cell_type": "code",
      "source": [
        "star_wars['Do you consider yourself to be a fan of the Star Wars film franchise?'] = star_wars['Do you consider yourself to be a fan of the Star Wars film franchise?'].map(yes_no)"
      ],
      "metadata": {
        "id": "qTue_bGF-mt3"
      },
      "execution_count": 104,
      "outputs": []
    },
    {
      "cell_type": "markdown",
      "source": [
        "When you're finished, both columns should only contain the value `True`, `False`, or `NaN`."
      ],
      "metadata": {
        "id": "A25vbI3P-LA5"
      }
    },
    {
      "cell_type": "code",
      "source": [
        "star_wars['Have you seen any of the 6 films in the Star Wars franchise?'].value_counts()"
      ],
      "metadata": {
        "id": "TT0_WQI--NGH",
        "colab": {
          "base_uri": "https://localhost:8080/"
        },
        "outputId": "cc74d05a-fdf1-4e94-f4e2-98ef3214028e"
      },
      "execution_count": 24,
      "outputs": [
        {
          "output_type": "execute_result",
          "data": {
            "text/plain": [
              "True     936\n",
              "False    250\n",
              "Name: Have you seen any of the 6 films in the Star Wars franchise?, dtype: int64"
            ]
          },
          "metadata": {},
          "execution_count": 24
        }
      ]
    },
    {
      "cell_type": "code",
      "source": [
        "star_wars['Do you consider yourself to be a fan of the Star Wars film franchise?'].value_counts()"
      ],
      "metadata": {
        "colab": {
          "base_uri": "https://localhost:8080/"
        },
        "id": "z853HA0LB6gs",
        "outputId": "631bc286-ca2a-4353-b402-b8710542b220"
      },
      "execution_count": 25,
      "outputs": [
        {
          "output_type": "execute_result",
          "data": {
            "text/plain": [
              "True     552\n",
              "False    284\n",
              "Name: Do you consider yourself to be a fan of the Star Wars film franchise?, dtype: int64"
            ]
          },
          "metadata": {},
          "execution_count": 25
        }
      ]
    },
    {
      "cell_type": "markdown",
      "metadata": {
        "id": "D7JS3UVA_G30"
      },
      "source": [
        "## 3. Cleaning and Mapping Checkbox Buttons"
      ]
    },
    {
      "cell_type": "markdown",
      "metadata": {
        "id": "fO5pwKAG_MUj"
      },
      "source": [
        "The next six columns represent a single checkbox question. The respondent checked off a series of boxes in response to the question, `Which of the following Star Wars films have you seen? Please select all that apply`.\n",
        "\n",
        "The columns for this question are:\n",
        "\n",
        "* `Which of the following Star Wars films have you seen? Please select all that apply.` — whether or not the respondent saw Star Wars: Episode I The Phantom Menace.\n",
        "* `Unnamed: 4` — whether or not the respondent saw Star Wars: Episode II Attack of the Clones.\n",
        "* `Unnamed: 5` — whether or not the respondent saw Star Wars: Episode III Revenge of the Sith.\n",
        "* `Unnamed: 6` — whether or not the respondent saw Star Wars: Episode IV A New Hope.\n",
        "* `Unnamed: 7` — whether or not the respondent saw Star Wars: Episode V The Empire Strikes Back.\n",
        "* `Unnamed: 8` — whether or not the respondent saw Star Wars: Episode VI Return of the Jedi.\n",
        "\n",
        "For each of these columns, if the value in a cell is the name of the movie, that means the respondent saw the movie. If the value is `NaN`, the respondent either didn't answer or didn't see the movie. We'll assume that they didn't see the movie.\n",
        "\n",
        "We'll need to convert each of these columns to a Boolean, then rename the column something more intuitive. We can convert the values the same way we did earlier, except that we'll need to include the movie title and `NaN` in the mapping dictionary.\n",
        "\n",
        "For example, imagine we had this column series:\n",
        "\n",
        "```\n",
        "[\"Star Wars: Episode I  The Phantom Menace\", NaN, \"Star Wars: Episode I  The Phantom Menace\"]\n",
        "```\n",
        "\n",
        "We could convert the values using this mapping dictionary:\n",
        "\n",
        "```\n",
        "{\n",
        "    \"Star Wars: Episode I  The Phantom Menace\": True,\n",
        "    np.NaN: False\n",
        "}\n",
        "```\n",
        "\n",
        "After calling the `map()` method on a series, the column should only contain the values `True` and `False`.\n",
        "\n",
        "Next, we'll need to rename the columns to reflect what they represent. We can use the `pandas.DataFrame.rename()` method on DataFrames to do this.\n",
        "\n",
        "The `df.rename()` method works a lot like `map()`. We pass it a dictionary that maps the current column names to new ones:\n",
        "```\n",
        "star_wars = star_wars.rename(columns={\n",
        "    \"Which of the following Star Wars films have you seen? Please select all that apply.\": \"seen_1\"\n",
        "})\n",
        "```\n",
        "The `pandas.DataFrame.rename()` method only renames the columns we specify in the dictionary; it won't change the names of other columns. The code above renames the `Which of the following Star Wars films have you seen? Please select all that apply.` column to `seen_1`.\n",
        "\n",
        "**Tasks**\n",
        "\n",
        "1. Convert each column above so that it only contains the values True and False.\n",
        "* You can select the column names quicker by entering `star_wars.columns[3:9]`, rather than typing them out.\n",
        "* Be very careful with spacing when constructing your mapping dictionary! In the cells, `Star Wars: Episode I The Phantom Menace` has two spaces between the end of `Episode I` and the start of `The Phantom`, but this isn't the case in `Star Wars: Episode VI Return of the Jedi`. Check the values in the cells carefully to make sure you use the appropriate spacing.\n",
        "\n",
        "2. Rename each of the columns above so the names are more intuitive. We recommend using `seen_1` to indicate whether the respondent saw `Star Wars: Episode I The Phantom Menace`, `seen_2` for `Star Wars: Episode II Attack of the Clones`, and so on.\n",
        "\n",
        "3. When you're finished, the columns should have intuitive names, along with `True` and `False` values that indicate whether the respondent saw each of the six Star Wars movies.\n",
        "\n",
        "\n",
        "\n",
        "\n",
        "\n",
        "\n"
      ]
    },
    {
      "cell_type": "markdown",
      "source": [
        "Convert each column above so that it only contains the values True and False"
      ],
      "metadata": {
        "id": "dp_ml-09GoEJ"
      }
    },
    {
      "cell_type": "code",
      "source": [
        "mapper = { \n",
        "    'Star Wars: Episode I  The Phantom Menace': True,\n",
        "    'Star Wars: Episode II  Attack of the Clones': True,\n",
        "    'Star Wars: Episode III  Revenge of the Sith': True,\n",
        "    'Star Wars: Episode IV  A New Hope': True,\n",
        "    'Star Wars: Episode V The Empire Strikes Back': True,\n",
        "    'Star Wars: Episode VI Return of the Jedi': True,\n",
        "    np.NaN: False,\n",
        "}"
      ],
      "metadata": {
        "id": "WACONb8MElxI"
      },
      "execution_count": 105,
      "outputs": []
    },
    {
      "cell_type": "code",
      "metadata": {
        "id": "dqA-Xd16A11O"
      },
      "source": [
        "star_wars[star_wars.columns[3:9]] = star_wars[star_wars.columns[3:9]].apply(lambda col: col.map(mapper) , axis = 0)"
      ],
      "execution_count": 106,
      "outputs": []
    },
    {
      "cell_type": "markdown",
      "source": [
        "Rename each of the columns above so the names are more intuitive"
      ],
      "metadata": {
        "id": "3S6sQ_t9Gruv"
      }
    },
    {
      "cell_type": "code",
      "source": [
        "new_columns = {\n",
        "  'Which of the following Star Wars films have you seen? Please select all that apply.':  'seen1',\n",
        "  'Unnamed: 4': 'seen2',\n",
        "  'Unnamed: 5': 'seen3',\n",
        "  'Unnamed: 6': 'seen4',\n",
        "  'Unnamed: 7': 'seen5',\n",
        "  'Unnamed: 8': 'seen6'\n",
        "}"
      ],
      "metadata": {
        "id": "rEe77rqkGAGs"
      },
      "execution_count": 107,
      "outputs": []
    },
    {
      "cell_type": "code",
      "source": [
        "star_wars.rename(columns = new_columns, inplace=True)"
      ],
      "metadata": {
        "id": "3ixRGBoYG3n0"
      },
      "execution_count": 108,
      "outputs": []
    },
    {
      "cell_type": "code",
      "source": [
        "star_wars[star_wars.columns[3:9]].head()"
      ],
      "metadata": {
        "colab": {
          "base_uri": "https://localhost:8080/",
          "height": 206
        },
        "id": "W6OA1nrEHMQi",
        "outputId": "ac6b0dae-f9da-43b3-e794-c8222f220956"
      },
      "execution_count": 109,
      "outputs": [
        {
          "output_type": "execute_result",
          "data": {
            "text/plain": [
              "   seen1  seen2  seen3  seen4  seen5  seen6\n",
              "0   True   True   True   True   True   True\n",
              "1   True   True   True   True   True   True\n",
              "2  False  False  False  False  False  False\n",
              "3   True   True   True  False  False  False\n",
              "4   True   True   True   True   True   True"
            ],
            "text/html": [
              "\n",
              "  <div id=\"df-d91dbd64-5016-477e-8235-0983fdef4da5\">\n",
              "    <div class=\"colab-df-container\">\n",
              "      <div>\n",
              "<style scoped>\n",
              "    .dataframe tbody tr th:only-of-type {\n",
              "        vertical-align: middle;\n",
              "    }\n",
              "\n",
              "    .dataframe tbody tr th {\n",
              "        vertical-align: top;\n",
              "    }\n",
              "\n",
              "    .dataframe thead th {\n",
              "        text-align: right;\n",
              "    }\n",
              "</style>\n",
              "<table border=\"1\" class=\"dataframe\">\n",
              "  <thead>\n",
              "    <tr style=\"text-align: right;\">\n",
              "      <th></th>\n",
              "      <th>seen1</th>\n",
              "      <th>seen2</th>\n",
              "      <th>seen3</th>\n",
              "      <th>seen4</th>\n",
              "      <th>seen5</th>\n",
              "      <th>seen6</th>\n",
              "    </tr>\n",
              "  </thead>\n",
              "  <tbody>\n",
              "    <tr>\n",
              "      <th>0</th>\n",
              "      <td>True</td>\n",
              "      <td>True</td>\n",
              "      <td>True</td>\n",
              "      <td>True</td>\n",
              "      <td>True</td>\n",
              "      <td>True</td>\n",
              "    </tr>\n",
              "    <tr>\n",
              "      <th>1</th>\n",
              "      <td>True</td>\n",
              "      <td>True</td>\n",
              "      <td>True</td>\n",
              "      <td>True</td>\n",
              "      <td>True</td>\n",
              "      <td>True</td>\n",
              "    </tr>\n",
              "    <tr>\n",
              "      <th>2</th>\n",
              "      <td>False</td>\n",
              "      <td>False</td>\n",
              "      <td>False</td>\n",
              "      <td>False</td>\n",
              "      <td>False</td>\n",
              "      <td>False</td>\n",
              "    </tr>\n",
              "    <tr>\n",
              "      <th>3</th>\n",
              "      <td>True</td>\n",
              "      <td>True</td>\n",
              "      <td>True</td>\n",
              "      <td>False</td>\n",
              "      <td>False</td>\n",
              "      <td>False</td>\n",
              "    </tr>\n",
              "    <tr>\n",
              "      <th>4</th>\n",
              "      <td>True</td>\n",
              "      <td>True</td>\n",
              "      <td>True</td>\n",
              "      <td>True</td>\n",
              "      <td>True</td>\n",
              "      <td>True</td>\n",
              "    </tr>\n",
              "  </tbody>\n",
              "</table>\n",
              "</div>\n",
              "      <button class=\"colab-df-convert\" onclick=\"convertToInteractive('df-d91dbd64-5016-477e-8235-0983fdef4da5')\"\n",
              "              title=\"Convert this dataframe to an interactive table.\"\n",
              "              style=\"display:none;\">\n",
              "        \n",
              "  <svg xmlns=\"http://www.w3.org/2000/svg\" height=\"24px\"viewBox=\"0 0 24 24\"\n",
              "       width=\"24px\">\n",
              "    <path d=\"M0 0h24v24H0V0z\" fill=\"none\"/>\n",
              "    <path d=\"M18.56 5.44l.94 2.06.94-2.06 2.06-.94-2.06-.94-.94-2.06-.94 2.06-2.06.94zm-11 1L8.5 8.5l.94-2.06 2.06-.94-2.06-.94L8.5 2.5l-.94 2.06-2.06.94zm10 10l.94 2.06.94-2.06 2.06-.94-2.06-.94-.94-2.06-.94 2.06-2.06.94z\"/><path d=\"M17.41 7.96l-1.37-1.37c-.4-.4-.92-.59-1.43-.59-.52 0-1.04.2-1.43.59L10.3 9.45l-7.72 7.72c-.78.78-.78 2.05 0 2.83L4 21.41c.39.39.9.59 1.41.59.51 0 1.02-.2 1.41-.59l7.78-7.78 2.81-2.81c.8-.78.8-2.07 0-2.86zM5.41 20L4 18.59l7.72-7.72 1.47 1.35L5.41 20z\"/>\n",
              "  </svg>\n",
              "      </button>\n",
              "      \n",
              "  <style>\n",
              "    .colab-df-container {\n",
              "      display:flex;\n",
              "      flex-wrap:wrap;\n",
              "      gap: 12px;\n",
              "    }\n",
              "\n",
              "    .colab-df-convert {\n",
              "      background-color: #E8F0FE;\n",
              "      border: none;\n",
              "      border-radius: 50%;\n",
              "      cursor: pointer;\n",
              "      display: none;\n",
              "      fill: #1967D2;\n",
              "      height: 32px;\n",
              "      padding: 0 0 0 0;\n",
              "      width: 32px;\n",
              "    }\n",
              "\n",
              "    .colab-df-convert:hover {\n",
              "      background-color: #E2EBFA;\n",
              "      box-shadow: 0px 1px 2px rgba(60, 64, 67, 0.3), 0px 1px 3px 1px rgba(60, 64, 67, 0.15);\n",
              "      fill: #174EA6;\n",
              "    }\n",
              "\n",
              "    [theme=dark] .colab-df-convert {\n",
              "      background-color: #3B4455;\n",
              "      fill: #D2E3FC;\n",
              "    }\n",
              "\n",
              "    [theme=dark] .colab-df-convert:hover {\n",
              "      background-color: #434B5C;\n",
              "      box-shadow: 0px 1px 3px 1px rgba(0, 0, 0, 0.15);\n",
              "      filter: drop-shadow(0px 1px 2px rgba(0, 0, 0, 0.3));\n",
              "      fill: #FFFFFF;\n",
              "    }\n",
              "  </style>\n",
              "\n",
              "      <script>\n",
              "        const buttonEl =\n",
              "          document.querySelector('#df-d91dbd64-5016-477e-8235-0983fdef4da5 button.colab-df-convert');\n",
              "        buttonEl.style.display =\n",
              "          google.colab.kernel.accessAllowed ? 'block' : 'none';\n",
              "\n",
              "        async function convertToInteractive(key) {\n",
              "          const element = document.querySelector('#df-d91dbd64-5016-477e-8235-0983fdef4da5');\n",
              "          const dataTable =\n",
              "            await google.colab.kernel.invokeFunction('convertToInteractive',\n",
              "                                                     [key], {});\n",
              "          if (!dataTable) return;\n",
              "\n",
              "          const docLinkHtml = 'Like what you see? Visit the ' +\n",
              "            '<a target=\"_blank\" href=https://colab.research.google.com/notebooks/data_table.ipynb>data table notebook</a>'\n",
              "            + ' to learn more about interactive tables.';\n",
              "          element.innerHTML = '';\n",
              "          dataTable['output_type'] = 'display_data';\n",
              "          await google.colab.output.renderOutput(dataTable, element);\n",
              "          const docLink = document.createElement('div');\n",
              "          docLink.innerHTML = docLinkHtml;\n",
              "          element.appendChild(docLink);\n",
              "        }\n",
              "      </script>\n",
              "    </div>\n",
              "  </div>\n",
              "  "
            ]
          },
          "metadata": {},
          "execution_count": 109
        }
      ]
    },
    {
      "cell_type": "markdown",
      "metadata": {
        "id": "oyXVyrDKA7ly"
      },
      "source": [
        "## 4. Cleaning the Ranking Columns"
      ]
    },
    {
      "cell_type": "markdown",
      "metadata": {
        "id": "XA6SYtpXA98t"
      },
      "source": [
        "The next six columns ask the respondent to rank the Star Wars movies in order from least to most favorite. `1` means the film was the most favorite, and `6` means it was the least favorite. Each of the following columns can contain the value `1`, `2`, `3`, `4`, `5`, `6`, or `NaN`:\n",
        "\n",
        "* `Please rank the Star Wars films in order of preference with 1 being your favorite film in the franchise and 6 being your least favorite film.` - How much the respondent liked `Star Wars: Episode I The Phantom Menace`\n",
        "* `Unnamed: 10` — How much the respondent liked `Star Wars: Episode II Attack of the Clones`\n",
        "* `Unnamed: 11` — How much the respondent liked `Star Wars: Episode III Revenge of the Sith`\n",
        "* `Unnamed: 12` — How much the respondent liked `Star Wars: Episode IV A New Hope`\n",
        "* `Unnamed: 13` — How much the respondent liked `Star Wars: Episode V The Empire Strikes Back`\n",
        "* `Unnamed: 14` — How much the respondent liked `Star Wars: Episode VI Return of the Jedi`\n",
        "\n",
        "Fortunately, these columns don't require much cleaning. We'll need to convert each column to a numeric type, then rename the columns so that we can tell what they represent more easily.\n",
        "\n",
        "We can do the numeric conversion with the `pandas.DataFrame.astype()` method on DataFrames. In this case, we can use code that looks like this:\n",
        "\n",
        "```\n",
        "star_wars[star_wars.columns[9:15]] = star_wars[star_wars.columns[9:15]].astype(float)\n",
        "```\n",
        "\n",
        "The code above converts column `9` up to but not including column `15` to the float data type.\n",
        "\n",
        "**Tasks**\n",
        "1. Convert each of the columns above to a float type.\n",
        "* You can select all of the column names with `star_wars.columns[9:15]`, rather than typing each one in.\n",
        "\n",
        "2. Give each column a more descriptive name. We suggest `ranking_1`, `ranking_2`, and so on.\n",
        "* You can use the `df.rename()` method from the previous lesson to accomplish this.\n",
        "\n",
        "\n",
        "\n"
      ]
    },
    {
      "cell_type": "markdown",
      "source": [
        "Convert each of the columns above to a float type"
      ],
      "metadata": {
        "id": "XIWE5HzILHkv"
      }
    },
    {
      "cell_type": "code",
      "source": [
        "new_mapper = { \n",
        "    'Star Wars: Episode I  The Phantom Menace': np.NAN,\n",
        "    'Star Wars: Episode II  Attack of the Clones': np.NAN,\n",
        "    'Star Wars: Episode III  Revenge of the Sith': np.NAN,\n",
        "    'Star Wars: Episode IV  A New Hope': np.NAN,\n",
        "    'Star Wars: Episode V The Empire Strikes Back': np.NAN,\n",
        "    'Star Wars: Episode VI Return of the Jedi': np.NAN,\n",
        "    '3': '3', \n",
        "    '1': '1', '5': '5',\n",
        "    '6': '6', '4': '4', '2': '2'\n",
        "}\n",
        "\n",
        "star_wars[star_wars.columns[9:15]] = star_wars[star_wars.columns[9:15]].apply(lambda col: col.map(new_mapper) , axis = 0)"
      ],
      "metadata": {
        "id": "rulNSKSwSA0M"
      },
      "execution_count": 129,
      "outputs": []
    },
    {
      "cell_type": "code",
      "metadata": {
        "id": "yX2UGyAbCFEq"
      },
      "source": [
        "star_wars[star_wars.columns[9:15]] = star_wars[star_wars.columns[9:15]].astype(float)"
      ],
      "execution_count": 130,
      "outputs": []
    },
    {
      "cell_type": "markdown",
      "source": [
        "Give each column a more descriptive name"
      ],
      "metadata": {
        "id": "OpHg6MfQLKen"
      }
    },
    {
      "cell_type": "code",
      "source": [
        "columns_9_to_14 = {\n",
        "    'Please rank the Star Wars films in order of preference with 1 being your favorite film in the franchise and 6 being your least favorite film.': 'ranking_1',\n",
        "    'Unnamed: 10' : 'ranking_2',\n",
        "    'Unnamed: 11' : 'ranking_3',\n",
        "    'Unnamed: 12' : 'ranking_4',\n",
        "    'Unnamed: 13' : 'ranking_5',\n",
        "    'Unnamed: 14' : 'ranking_6'\n",
        " }"
      ],
      "metadata": {
        "id": "1FcQlKrcI1hE"
      },
      "execution_count": 110,
      "outputs": []
    },
    {
      "cell_type": "code",
      "source": [
        "star_wars.rename(columns = columns_9_to_14, inplace=True)"
      ],
      "metadata": {
        "id": "sWkt4bbSLOUY"
      },
      "execution_count": 111,
      "outputs": []
    },
    {
      "cell_type": "code",
      "source": [
        "star_wars[star_wars.columns[9:15]].head()"
      ],
      "metadata": {
        "colab": {
          "base_uri": "https://localhost:8080/",
          "height": 206
        },
        "id": "zt9VD7NCJpAW",
        "outputId": "f1006943-e1be-45a6-d0c0-8bc43b983c04"
      },
      "execution_count": 131,
      "outputs": [
        {
          "output_type": "execute_result",
          "data": {
            "text/plain": [
              "   ranking_1  ranking_2  ranking_3  ranking_4  ranking_5  ranking_6\n",
              "0        NaN        NaN        NaN        NaN        NaN        NaN\n",
              "1        3.0        2.0        1.0        4.0        5.0        6.0\n",
              "2        NaN        NaN        NaN        NaN        NaN        NaN\n",
              "3        1.0        2.0        3.0        4.0        5.0        6.0\n",
              "4        5.0        6.0        1.0        2.0        4.0        3.0"
            ],
            "text/html": [
              "\n",
              "  <div id=\"df-eff89f6c-cdbe-4fb5-83c0-547aa5fd5a65\">\n",
              "    <div class=\"colab-df-container\">\n",
              "      <div>\n",
              "<style scoped>\n",
              "    .dataframe tbody tr th:only-of-type {\n",
              "        vertical-align: middle;\n",
              "    }\n",
              "\n",
              "    .dataframe tbody tr th {\n",
              "        vertical-align: top;\n",
              "    }\n",
              "\n",
              "    .dataframe thead th {\n",
              "        text-align: right;\n",
              "    }\n",
              "</style>\n",
              "<table border=\"1\" class=\"dataframe\">\n",
              "  <thead>\n",
              "    <tr style=\"text-align: right;\">\n",
              "      <th></th>\n",
              "      <th>ranking_1</th>\n",
              "      <th>ranking_2</th>\n",
              "      <th>ranking_3</th>\n",
              "      <th>ranking_4</th>\n",
              "      <th>ranking_5</th>\n",
              "      <th>ranking_6</th>\n",
              "    </tr>\n",
              "  </thead>\n",
              "  <tbody>\n",
              "    <tr>\n",
              "      <th>0</th>\n",
              "      <td>NaN</td>\n",
              "      <td>NaN</td>\n",
              "      <td>NaN</td>\n",
              "      <td>NaN</td>\n",
              "      <td>NaN</td>\n",
              "      <td>NaN</td>\n",
              "    </tr>\n",
              "    <tr>\n",
              "      <th>1</th>\n",
              "      <td>3.0</td>\n",
              "      <td>2.0</td>\n",
              "      <td>1.0</td>\n",
              "      <td>4.0</td>\n",
              "      <td>5.0</td>\n",
              "      <td>6.0</td>\n",
              "    </tr>\n",
              "    <tr>\n",
              "      <th>2</th>\n",
              "      <td>NaN</td>\n",
              "      <td>NaN</td>\n",
              "      <td>NaN</td>\n",
              "      <td>NaN</td>\n",
              "      <td>NaN</td>\n",
              "      <td>NaN</td>\n",
              "    </tr>\n",
              "    <tr>\n",
              "      <th>3</th>\n",
              "      <td>1.0</td>\n",
              "      <td>2.0</td>\n",
              "      <td>3.0</td>\n",
              "      <td>4.0</td>\n",
              "      <td>5.0</td>\n",
              "      <td>6.0</td>\n",
              "    </tr>\n",
              "    <tr>\n",
              "      <th>4</th>\n",
              "      <td>5.0</td>\n",
              "      <td>6.0</td>\n",
              "      <td>1.0</td>\n",
              "      <td>2.0</td>\n",
              "      <td>4.0</td>\n",
              "      <td>3.0</td>\n",
              "    </tr>\n",
              "  </tbody>\n",
              "</table>\n",
              "</div>\n",
              "      <button class=\"colab-df-convert\" onclick=\"convertToInteractive('df-eff89f6c-cdbe-4fb5-83c0-547aa5fd5a65')\"\n",
              "              title=\"Convert this dataframe to an interactive table.\"\n",
              "              style=\"display:none;\">\n",
              "        \n",
              "  <svg xmlns=\"http://www.w3.org/2000/svg\" height=\"24px\"viewBox=\"0 0 24 24\"\n",
              "       width=\"24px\">\n",
              "    <path d=\"M0 0h24v24H0V0z\" fill=\"none\"/>\n",
              "    <path d=\"M18.56 5.44l.94 2.06.94-2.06 2.06-.94-2.06-.94-.94-2.06-.94 2.06-2.06.94zm-11 1L8.5 8.5l.94-2.06 2.06-.94-2.06-.94L8.5 2.5l-.94 2.06-2.06.94zm10 10l.94 2.06.94-2.06 2.06-.94-2.06-.94-.94-2.06-.94 2.06-2.06.94z\"/><path d=\"M17.41 7.96l-1.37-1.37c-.4-.4-.92-.59-1.43-.59-.52 0-1.04.2-1.43.59L10.3 9.45l-7.72 7.72c-.78.78-.78 2.05 0 2.83L4 21.41c.39.39.9.59 1.41.59.51 0 1.02-.2 1.41-.59l7.78-7.78 2.81-2.81c.8-.78.8-2.07 0-2.86zM5.41 20L4 18.59l7.72-7.72 1.47 1.35L5.41 20z\"/>\n",
              "  </svg>\n",
              "      </button>\n",
              "      \n",
              "  <style>\n",
              "    .colab-df-container {\n",
              "      display:flex;\n",
              "      flex-wrap:wrap;\n",
              "      gap: 12px;\n",
              "    }\n",
              "\n",
              "    .colab-df-convert {\n",
              "      background-color: #E8F0FE;\n",
              "      border: none;\n",
              "      border-radius: 50%;\n",
              "      cursor: pointer;\n",
              "      display: none;\n",
              "      fill: #1967D2;\n",
              "      height: 32px;\n",
              "      padding: 0 0 0 0;\n",
              "      width: 32px;\n",
              "    }\n",
              "\n",
              "    .colab-df-convert:hover {\n",
              "      background-color: #E2EBFA;\n",
              "      box-shadow: 0px 1px 2px rgba(60, 64, 67, 0.3), 0px 1px 3px 1px rgba(60, 64, 67, 0.15);\n",
              "      fill: #174EA6;\n",
              "    }\n",
              "\n",
              "    [theme=dark] .colab-df-convert {\n",
              "      background-color: #3B4455;\n",
              "      fill: #D2E3FC;\n",
              "    }\n",
              "\n",
              "    [theme=dark] .colab-df-convert:hover {\n",
              "      background-color: #434B5C;\n",
              "      box-shadow: 0px 1px 3px 1px rgba(0, 0, 0, 0.15);\n",
              "      filter: drop-shadow(0px 1px 2px rgba(0, 0, 0, 0.3));\n",
              "      fill: #FFFFFF;\n",
              "    }\n",
              "  </style>\n",
              "\n",
              "      <script>\n",
              "        const buttonEl =\n",
              "          document.querySelector('#df-eff89f6c-cdbe-4fb5-83c0-547aa5fd5a65 button.colab-df-convert');\n",
              "        buttonEl.style.display =\n",
              "          google.colab.kernel.accessAllowed ? 'block' : 'none';\n",
              "\n",
              "        async function convertToInteractive(key) {\n",
              "          const element = document.querySelector('#df-eff89f6c-cdbe-4fb5-83c0-547aa5fd5a65');\n",
              "          const dataTable =\n",
              "            await google.colab.kernel.invokeFunction('convertToInteractive',\n",
              "                                                     [key], {});\n",
              "          if (!dataTable) return;\n",
              "\n",
              "          const docLinkHtml = 'Like what you see? Visit the ' +\n",
              "            '<a target=\"_blank\" href=https://colab.research.google.com/notebooks/data_table.ipynb>data table notebook</a>'\n",
              "            + ' to learn more about interactive tables.';\n",
              "          element.innerHTML = '';\n",
              "          dataTable['output_type'] = 'display_data';\n",
              "          await google.colab.output.renderOutput(dataTable, element);\n",
              "          const docLink = document.createElement('div');\n",
              "          docLink.innerHTML = docLinkHtml;\n",
              "          element.appendChild(docLink);\n",
              "        }\n",
              "      </script>\n",
              "    </div>\n",
              "  </div>\n",
              "  "
            ]
          },
          "metadata": {},
          "execution_count": 131
        }
      ]
    },
    {
      "cell_type": "markdown",
      "metadata": {
        "id": "7Z9jKtt3CKDQ"
      },
      "source": [
        "## 5. Finding the Highest-Ranked Movie"
      ]
    },
    {
      "cell_type": "markdown",
      "metadata": {
        "id": "DcnM3lmtCU0u"
      },
      "source": [
        "Now that we've cleaned up the ranking columns, we can find the highest-ranked movie quicker. To do this, take the mean of each ranking columns using the `pandas.DataFrame.mean()` method on DataFrames.\n",
        "\n",
        "**Tasks**\n",
        "1. Use the `pandas.DataFrame.mean()` method to compute the mean of each ranking columns from the previous lesson.\n",
        "\n",
        "2. Make a bar chart of each seen. You can use a matplotlib bar chart for this.\n",
        "* Run `%matplotlib inline` beforehand to show your plots in the notebook.\n",
        "\n",
        "3. Write up a summary of what you've done so far in a markdown cell. Also, discuss how the respondents ranked the movies.\n",
        "* Remember that a lower ranking is better!\n"
      ]
    },
    {
      "cell_type": "markdown",
      "source": [
        "**Task 1: ** \n",
        "Use the pandas.DataFrame.mean() method to compute the mean of each ranking columns from the previous lesson"
      ],
      "metadata": {
        "id": "EJGDnaGHSwME"
      }
    },
    {
      "cell_type": "code",
      "metadata": {
        "id": "vF4Hne9tCvGc",
        "colab": {
          "base_uri": "https://localhost:8080/"
        },
        "outputId": "6a74e449-d808-4f2e-c49e-9e2f1617f710"
      },
      "source": [
        "star_wars[star_wars.columns[9:15]].mean()"
      ],
      "execution_count": 132,
      "outputs": [
        {
          "output_type": "execute_result",
          "data": {
            "text/plain": [
              "ranking_1    3.732934\n",
              "ranking_2    4.087321\n",
              "ranking_3    4.341317\n",
              "ranking_4    3.272727\n",
              "ranking_5    2.513158\n",
              "ranking_6    3.047847\n",
              "dtype: float64"
            ]
          },
          "metadata": {},
          "execution_count": 132
        }
      ]
    },
    {
      "cell_type": "markdown",
      "source": [
        "**Task 2: ** Make a bar chart of each seen"
      ],
      "metadata": {
        "id": "UMuYlEqjTCG9"
      }
    },
    {
      "cell_type": "code",
      "source": [
        "import matplotlib.pyplot as plt\n",
        "\n",
        "%matplotlib inline\n",
        "\n",
        "fig, ax= plt.subplots()\n",
        "ax = star_wars[star_wars.columns[9:15]].mean().plot(kind = 'bar')\n",
        "\n",
        "ax.set_xticklabels(['Episode I The Phantom Menace', 'Star Wars: Episode II Attack of the Clones', 'Star Wars: Episode III Revenge of the Sith', \n",
        "                    'Star Wars: Episode IV A New Hope', 'Star Wars: Episode V The Empire Strikes Back', 'Star Wars: Episode VI Return of the Jedi'])"
      ],
      "metadata": {
        "colab": {
          "base_uri": "https://localhost:8080/",
          "height": 587
        },
        "id": "eI2RG0snTC4N",
        "outputId": "d8f8c7bf-60f0-4235-a5eb-c8cf8c91e4fc"
      },
      "execution_count": 133,
      "outputs": [
        {
          "output_type": "execute_result",
          "data": {
            "text/plain": [
              "[Text(0, 0, 'Episode I The Phantom Menace'),\n",
              " Text(0, 0, 'Star Wars: Episode II Attack of the Clones'),\n",
              " Text(0, 0, 'Star Wars: Episode III Revenge of the Sith'),\n",
              " Text(0, 0, 'Star Wars: Episode IV A New Hope'),\n",
              " Text(0, 0, 'Star Wars: Episode V The Empire Strikes Back'),\n",
              " Text(0, 0, 'Star Wars: Episode VI Return of the Jedi')]"
            ]
          },
          "metadata": {},
          "execution_count": 133
        },
        {
          "output_type": "display_data",
          "data": {
            "text/plain": [
              "<Figure size 432x288 with 1 Axes>"
            ],
            "image/png": "[encoded data removed]"
          },
          "metadata": {
            "needs_background": "light"
          }
        }
      ]
    },
    {
      "cell_type": "markdown",
      "source": [
        "**Task 3: ** Write up a summary of what you've done so far in a markdown cell. Discuss how the respondents ranked the movies.\n",
        "\n",
        "> 1. To compute the mean of each ranking column, I used the pandas.DataFrame.mean() method.\n",
        "2. \"Star Wars: Episode V The Empire Strikes Back\" was the best ranking movie, while \"Star Wars: Episode III Revenge of the Sith\" was the worst ranking.\n"
      ],
      "metadata": {
        "id": "Gm67NgdfUWXe"
      }
    },
    {
      "cell_type": "markdown",
      "metadata": {
        "id": "ds7Kw730Czqf"
      },
      "source": [
        "## 6. Finding the Most Viewed Movie"
      ]
    },
    {
      "cell_type": "markdown",
      "metadata": {
        "id": "Z1XtYpjvC1BX"
      },
      "source": [
        "Earlier in this project, we cleaned up the seen columns and converted their values to the Boolean type. When we call methods like `pandas.DataFrame.sum()` or `mean()`, they treat Booleans like integers. They consider `True` a `1` and `False` a `0`. That means we can figure out how many people have seen each movie just by taking the sum of the column (even though they contain Boolean values).\n",
        "\n",
        "**Tasks**\n",
        "\n",
        "1. Use the `df.sum()` method to compute the sum of each seen columns.\n",
        "2. Make a bar chart of each ranking. You can use a matplotlib bar chart for this.\n",
        "3. Write up your thoughts on why the results look the way they do in a markdown cell. Also discuss how the results correlate with the rankings."
      ]
    },
    {
      "cell_type": "markdown",
      "source": [
        "Task 1: compute the sum of each seen columns"
      ],
      "metadata": {
        "id": "hLXclaUaWMvh"
      }
    },
    {
      "cell_type": "code",
      "metadata": {
        "id": "oNMjubWRDIKv",
        "colab": {
          "base_uri": "https://localhost:8080/"
        },
        "outputId": "6c6d6a4d-a083-4a30-929d-483e17c021f7"
      },
      "source": [
        "star_wars[star_wars.columns[3:9]].sum()"
      ],
      "execution_count": 134,
      "outputs": [
        {
          "output_type": "execute_result",
          "data": {
            "text/plain": [
              "seen1    674\n",
              "seen2    572\n",
              "seen3    551\n",
              "seen4    608\n",
              "seen5    759\n",
              "seen6    739\n",
              "dtype: int64"
            ]
          },
          "metadata": {},
          "execution_count": 134
        }
      ]
    },
    {
      "cell_type": "markdown",
      "source": [
        "Task 2: Make a bar chart of each ranking"
      ],
      "metadata": {
        "id": "9MttmoS4WRPu"
      }
    },
    {
      "cell_type": "code",
      "source": [
        "%matplotlib inline\n",
        "\n",
        "fig, ax= plt.subplots()\n",
        "ax = star_wars[star_wars.columns[3:9]].mean().plot(kind = 'bar')\n",
        "\n",
        "ax.set_xticklabels(['Episode I The Phantom Menace', 'Star Wars: Episode II Attack of the Clones', 'Star Wars: Episode III Revenge of the Sith', \n",
        "                    'Star Wars: Episode IV A New Hope', 'Star Wars: Episode V The Empire Strikes Back', 'Star Wars: Episode VI Return of the Jedi'])"
      ],
      "metadata": {
        "colab": {
          "base_uri": "https://localhost:8080/",
          "height": 587
        },
        "id": "CHZCAu5AWTkL",
        "outputId": "c268f991-2582-45cf-b28d-043b252eb2eb"
      },
      "execution_count": 136,
      "outputs": [
        {
          "output_type": "execute_result",
          "data": {
            "text/plain": [
              "[Text(0, 0, 'Episode I The Phantom Menace'),\n",
              " Text(0, 0, 'Star Wars: Episode II Attack of the Clones'),\n",
              " Text(0, 0, 'Star Wars: Episode III Revenge of the Sith'),\n",
              " Text(0, 0, 'Star Wars: Episode IV A New Hope'),\n",
              " Text(0, 0, 'Star Wars: Episode V The Empire Strikes Back'),\n",
              " Text(0, 0, 'Star Wars: Episode VI Return of the Jedi')]"
            ]
          },
          "metadata": {},
          "execution_count": 136
        },
        {
          "output_type": "display_data",
          "data": {
            "text/plain": [
              "<Figure size 432x288 with 1 Axes>"
            ],
            "image/png": "[encoded data removed]"
          },
          "metadata": {
            "needs_background": "light"
          }
        }
      ]
    },
    {
      "cell_type": "markdown",
      "source": [
        "Observations\n",
        "> 1. \"Star Wars: Episode V The Empire Strikes Back\" was the most watched movie of all 6\n",
        "2. The order of most watched movies matches the rankings"
      ],
      "metadata": {
        "id": "4XJpv7JGV6tP"
      }
    },
    {
      "cell_type": "markdown",
      "metadata": {
        "id": "6SXOaQsGDMh_"
      },
      "source": [
        "## 8. Exploring the Data by Binary Segments"
      ]
    },
    {
      "cell_type": "markdown",
      "metadata": {
        "id": "g_CqxqUtDTkF"
      },
      "source": [
        "We know which movies the survey population as a whole has ranked the highest. Now let's examine how certain segments of the survey population responded. There are several columns that segment our data into two groups. Here are a few examples:\n",
        "\n",
        "* `Do you consider yourself to be a fan of the Star Wars film franchise?` — True or False\n",
        "* `Do you consider yourself to be a fan of the Star Trek franchise?` — Yes or No\n",
        "* `Gender` — Male or Female\n",
        "\n",
        "We can split a DataFrame into two groups based on a binary column by creating two subsets of that column. For example, we can split on the Gender column like this:\n",
        "\n",
        "```\n",
        "males = star_wars[star_wars[\"Gender\"] == \"Male\"]\n",
        "females = star_wars[star_wars[\"Gender\"] == \"Female\"]\n",
        "```\n",
        "\n",
        "The subsets allow us to compute the most viewed movie, the `highest-ranked` movie, and other statistics separately for each group.\n",
        "\n",
        "**Tasks**\n",
        "1. Split the data into two groups based on one of the binary columns above.\n",
        "\n",
        "2. Redo the two previous analyses (find the most viewed movie and the highest-ranked movie) separately for each group, and then compare the results.\n",
        "\n",
        "3. If you see any interesting patterns, write about them in a markdown cell.\n"
      ]
    },
    {
      "cell_type": "markdown",
      "source": [
        "Task 1: Split the data into two groups"
      ],
      "metadata": {
        "id": "btQYKeuXXaP8"
      }
    },
    {
      "cell_type": "code",
      "metadata": {
        "id": "hFJfz5JrDQUS"
      },
      "source": [
        "males = star_wars[star_wars[\"Gender\"] == \"Male\"]\n",
        "females = star_wars[star_wars[\"Gender\"] == \"Female\"]"
      ],
      "execution_count": 137,
      "outputs": []
    },
    {
      "cell_type": "markdown",
      "source": [
        "Task 2: Redo the two previous analyses (find the most viewed movie and the highest-ranked movie) separately for each group, and then compare the results"
      ],
      "metadata": {
        "id": "0KUP3rhpXkEs"
      }
    },
    {
      "cell_type": "code",
      "source": [
        "males[males.columns[3:9]].sum()"
      ],
      "metadata": {
        "colab": {
          "base_uri": "https://localhost:8080/"
        },
        "id": "6e795u-tXnk4",
        "outputId": "eb869492-b5f0-44e2-bb9b-51fc9be5c4a2"
      },
      "execution_count": 138,
      "outputs": [
        {
          "output_type": "execute_result",
          "data": {
            "text/plain": [
              "seen1    361\n",
              "seen2    323\n",
              "seen3    317\n",
              "seen4    342\n",
              "seen5    392\n",
              "seen6    387\n",
              "dtype: int64"
            ]
          },
          "metadata": {},
          "execution_count": 138
        }
      ]
    },
    {
      "cell_type": "code",
      "source": [
        "%matplotlib inline\n",
        "\n",
        "fig, ax= plt.subplots()\n",
        "ax = males[males.columns[3:9]].mean().plot(kind = 'bar')\n",
        "\n",
        "ax.set_xticklabels(['Episode I The Phantom Menace', 'Star Wars: Episode II Attack of the Clones', 'Star Wars: Episode III Revenge of the Sith', \n",
        "                    'Star Wars: Episode IV A New Hope', 'Star Wars: Episode V The Empire Strikes Back', 'Star Wars: Episode VI Return of the Jedi'])"
      ],
      "metadata": {
        "colab": {
          "base_uri": "https://localhost:8080/",
          "height": 587
        },
        "id": "pIobElqQYhQU",
        "outputId": "7de3d40e-d31c-4cd1-8c41-c5c16add635c"
      },
      "execution_count": 140,
      "outputs": [
        {
          "output_type": "execute_result",
          "data": {
            "text/plain": [
              "[Text(0, 0, 'Episode I The Phantom Menace'),\n",
              " Text(0, 0, 'Star Wars: Episode II Attack of the Clones'),\n",
              " Text(0, 0, 'Star Wars: Episode III Revenge of the Sith'),\n",
              " Text(0, 0, 'Star Wars: Episode IV A New Hope'),\n",
              " Text(0, 0, 'Star Wars: Episode V The Empire Strikes Back'),\n",
              " Text(0, 0, 'Star Wars: Episode VI Return of the Jedi')]"
            ]
          },
          "metadata": {},
          "execution_count": 140
        },
        {
          "output_type": "display_data",
          "data": {
            "text/plain": [
              "<Figure size 432x288 with 1 Axes>"
            ],
            "image/png": "[encoded data removed]"
          },
          "metadata": {
            "needs_background": "light"
          }
        }
      ]
    },
    {
      "cell_type": "code",
      "source": [
        "females[females.columns[3:9]].sum()"
      ],
      "metadata": {
        "colab": {
          "base_uri": "https://localhost:8080/"
        },
        "id": "VWXuK8PTYMNH",
        "outputId": "fe24901a-b0d8-4583-c5ae-4745439dd247"
      },
      "execution_count": 139,
      "outputs": [
        {
          "output_type": "execute_result",
          "data": {
            "text/plain": [
              "seen1    298\n",
              "seen2    237\n",
              "seen3    222\n",
              "seen4    255\n",
              "seen5    353\n",
              "seen6    338\n",
              "dtype: int64"
            ]
          },
          "metadata": {},
          "execution_count": 139
        }
      ]
    },
    {
      "cell_type": "code",
      "source": [
        "%matplotlib inline\n",
        "\n",
        "fig, ax= plt.subplots()\n",
        "ax = females[females.columns[3:9]].mean().plot(kind = 'bar')\n",
        "\n",
        "ax.set_xticklabels(['Episode I The Phantom Menace', 'Star Wars: Episode II Attack of the Clones', 'Star Wars: Episode III Revenge of the Sith', \n",
        "                    'Star Wars: Episode IV A New Hope', 'Star Wars: Episode V The Empire Strikes Back', 'Star Wars: Episode VI Return of the Jedi'])"
      ],
      "metadata": {
        "colab": {
          "base_uri": "https://localhost:8080/",
          "height": 587
        },
        "id": "10y3xD6KYoMM",
        "outputId": "5054c22d-1e56-443c-acab-3ff8d89d7c5f"
      },
      "execution_count": 141,
      "outputs": [
        {
          "output_type": "execute_result",
          "data": {
            "text/plain": [
              "[Text(0, 0, 'Episode I The Phantom Menace'),\n",
              " Text(0, 0, 'Star Wars: Episode II Attack of the Clones'),\n",
              " Text(0, 0, 'Star Wars: Episode III Revenge of the Sith'),\n",
              " Text(0, 0, 'Star Wars: Episode IV A New Hope'),\n",
              " Text(0, 0, 'Star Wars: Episode V The Empire Strikes Back'),\n",
              " Text(0, 0, 'Star Wars: Episode VI Return of the Jedi')]"
            ]
          },
          "metadata": {},
          "execution_count": 141
        },
        {
          "output_type": "display_data",
          "data": {
            "text/plain": [
              "<Figure size 432x288 with 1 Axes>"
            ],
            "image/png": "[encoded data removed]"
          },
          "metadata": {
            "needs_background": "light"
          }
        }
      ]
    },
    {
      "cell_type": "markdown",
      "source": [
        "Observations\n",
        "> In both groups\n",
        "1. \"Star Wars: Episode V The Empire Strikes Back\" was the most watched movie of all 6, while \"Star Wars: Episode III Revenge of the Sith\" was the least viewed.\n",
        "2. The order of most watched movies matches the rankings"
      ],
      "metadata": {
        "id": "f8dFLLulYcQG"
      }
    },
    {
      "cell_type": "markdown",
      "metadata": {
        "id": "tgyka_N3D0zH"
      },
      "source": [
        "## 9. Further Analysis"
      ]
    },
    {
      "cell_type": "markdown",
      "source": [
        "Clean columns 15 to 29, which contain data on the characters respondents view favorably and unfavorably"
      ],
      "metadata": {
        "id": "T9rHcxInZXNd"
      }
    },
    {
      "cell_type": "code",
      "source": [
        "characters_columns = {\n",
        "  'Please state whether you view the following characters favorably, unfavorably, or are unfamiliar with him/her.':  'Han Solo',\n",
        "  'Unnamed: 16': 'Luke Skywalker',\n",
        "  'Unnamed: 17': 'Princess Leia Organa',\n",
        "  'Unnamed: 18': 'Anakin Skywalker',\n",
        "  'Unnamed: 19': 'Obi Wan Kenobi',\n",
        "  'Unnamed: 20': 'Emperor Palpatine',\n",
        "  'Unnamed: 21': 'Darth Vader',\n",
        "  'Unnamed: 22': 'Lando Calrissian',\n",
        "  'Unnamed: 23': 'Boba Fett',\n",
        "  'Unnamed: 24': 'C-3P0',\n",
        "  'Unnamed: 25': 'R2 D2',\n",
        "  'Unnamed: 26': 'Jar Jar Binks',\n",
        "  'Unnamed: 27': 'Padme Amidala',\n",
        "  'Unnamed: 28': 'Yoda'\n",
        "}"
      ],
      "metadata": {
        "id": "OHYgC1Nhb2Jv"
      },
      "execution_count": 150,
      "outputs": []
    },
    {
      "cell_type": "code",
      "source": [
        "star_wars.rename(columns = characters_columns, inplace=True)"
      ],
      "metadata": {
        "id": "bQ-wE1FMc_uh"
      },
      "execution_count": 151,
      "outputs": []
    },
    {
      "cell_type": "markdown",
      "source": [
        "Which character do respondents like the most?"
      ],
      "metadata": {
        "id": "xO4ry4_CZa3J"
      }
    },
    {
      "cell_type": "code",
      "source": [
        "df_characters = star_wars[star_wars.columns[15:29]]"
      ],
      "metadata": {
        "id": "yum9zWRNdmUR"
      },
      "execution_count": 172,
      "outputs": []
    },
    {
      "cell_type": "code",
      "source": [
        "for col in df_characters.columns:\n",
        "  vote_count = df_characters[col].value_counts()['Very favorably'] +  df_characters[col].value_counts()['Somewhat favorably']\n",
        "  print('{colname} : {votes} '.format(colname = col, votes = vote_count) )"
      ],
      "metadata": {
        "colab": {
          "base_uri": "https://localhost:8080/"
        },
        "id": "zycKdL7VhD3i",
        "outputId": "065a4c39-851a-4fb8-ca8e-cce16da3d156"
      },
      "execution_count": 190,
      "outputs": [
        {
          "output_type": "stream",
          "name": "stdout",
          "text": [
            "Han Solo : 761 \n",
            "Luke Skywalker : 771 \n",
            "Princess Leia Organa : 757 \n",
            "Anakin Skywalker : 514 \n",
            "Obi Wan Kenobi : 750 \n",
            "Emperor Palpatine : 253 \n",
            "Darth Vader : 481 \n",
            "Lando Calrissian : 365 \n",
            "Boba Fett : 291 \n",
            "C-3P0 : 703 \n",
            "R2 D2 : 747 \n",
            "Jar Jar Binks : 242 \n",
            "Padme Amidala : 351 \n",
            "Yoda : 749 \n"
          ]
        }
      ]
    },
    {
      "cell_type": "markdown",
      "source": [
        "**Observation**\n",
        "> Luke Skywalker is the most liked character"
      ],
      "metadata": {
        "id": "SPbGvxOXjoQr"
      }
    },
    {
      "cell_type": "markdown",
      "source": [
        "Which character do respondents dislike the most?"
      ],
      "metadata": {
        "id": "A4mUXyjgZjOy"
      }
    },
    {
      "cell_type": "code",
      "source": [
        "for col in df_characters.columns:\n",
        "  vote_count = df_characters[col].value_counts()['Very unfavorably'] +  df_characters[col].value_counts()['Somewhat unfavorably']\n",
        "  print('{colname} : {votes} '.format(colname = col, votes = vote_count) )"
      ],
      "metadata": {
        "colab": {
          "base_uri": "https://localhost:8080/"
        },
        "id": "UIVL0iGXZtRK",
        "outputId": "e16a4c58-0880-4483-be58-014f2e76f967"
      },
      "execution_count": 191,
      "outputs": [
        {
          "output_type": "stream",
          "name": "stdout",
          "text": [
            "Han Solo : 9 \n",
            "Luke Skywalker : 16 \n",
            "Princess Leia Organa : 18 \n",
            "Anakin Skywalker : 122 \n",
            "Obi Wan Kenobi : 15 \n",
            "Emperor Palpatine : 192 \n",
            "Darth Vader : 251 \n",
            "Lando Calrissian : 71 \n",
            "Boba Fett : 141 \n",
            "C-3P0 : 30 \n",
            "R2 D2 : 16 \n",
            "Jar Jar Binks : 306 \n",
            "Padme Amidala : 92 \n",
            "Yoda : 16 \n"
          ]
        }
      ]
    },
    {
      "cell_type": "markdown",
      "source": [
        "**Observation**\n",
        "> Jar Jar Binks is the least liked character"
      ],
      "metadata": {
        "id": "jKQUUv7cj6uX"
      }
    },
    {
      "cell_type": "markdown",
      "source": [
        "Which character is the most controversial (split between likes and dislikes)?\n",
        "\n",
        "> Jar Jar Binks is the most controversial; 242 star wars fans found the character favorable and 306 found the character unfavorable"
      ],
      "metadata": {
        "id": "mwYzc2KQZeGb"
      }
    }
  ]
}
